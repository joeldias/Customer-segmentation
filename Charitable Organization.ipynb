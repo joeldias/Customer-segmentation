{
 "cells": [
  {
   "cell_type": "code",
   "execution_count": 1,
   "metadata": {},
   "outputs": [],
   "source": [
    "#Import required libraries"
   ]
  },
  {
   "cell_type": "code",
   "execution_count": 2,
   "metadata": {},
   "outputs": [],
   "source": [
    "import pandas as pd\n",
    "import numpy as np\n",
    "import matplotlib.pyplot as plt\n",
    "import seaborn as ss\n",
    "%matplotlib inline"
   ]
  },
  {
   "cell_type": "code",
   "execution_count": 3,
   "metadata": {},
   "outputs": [],
   "source": [
    "#Read file Donor Raw Data_ML with Python.csv using pandas function"
   ]
  },
  {
   "cell_type": "code",
   "execution_count": 4,
   "metadata": {},
   "outputs": [],
   "source": [
    "df = pd.read_csv('Donor Raw Data_ML with Python.csv')"
   ]
  },
  {
   "cell_type": "code",
   "execution_count": 5,
   "metadata": {},
   "outputs": [],
   "source": [
    "#Evaluate the file using head(), info() and describe()"
   ]
  },
  {
   "cell_type": "code",
   "execution_count": 6,
   "metadata": {},
   "outputs": [
    {
     "data": {
      "text/html": [
       "<div>\n",
       "<style scoped>\n",
       "    .dataframe tbody tr th:only-of-type {\n",
       "        vertical-align: middle;\n",
       "    }\n",
       "\n",
       "    .dataframe tbody tr th {\n",
       "        vertical-align: top;\n",
       "    }\n",
       "\n",
       "    .dataframe thead th {\n",
       "        text-align: right;\n",
       "    }\n",
       "</style>\n",
       "<table border=\"1\" class=\"dataframe\">\n",
       "  <thead>\n",
       "    <tr style=\"text-align: right;\">\n",
       "      <th></th>\n",
       "      <th>TARGET_B</th>\n",
       "      <th>TARGET_D</th>\n",
       "      <th>CONTROL_NUMBER</th>\n",
       "      <th>MONTHS_SINCE_ORIGIN</th>\n",
       "      <th>DONOR_AGE</th>\n",
       "      <th>IN_HOUSE</th>\n",
       "      <th>URBANICITY</th>\n",
       "      <th>SES</th>\n",
       "      <th>CLUSTER_CODE</th>\n",
       "      <th>HOME_OWNER</th>\n",
       "      <th>...</th>\n",
       "      <th>LIFETIME_GIFT_RANGE</th>\n",
       "      <th>LIFETIME_MAX_GIFT_AMT</th>\n",
       "      <th>LIFETIME_MIN_GIFT_AMT</th>\n",
       "      <th>LAST_GIFT_AMT</th>\n",
       "      <th>CARD_PROM_12</th>\n",
       "      <th>NUMBER_PROM_12</th>\n",
       "      <th>MONTHS_SINCE_LAST_GIFT</th>\n",
       "      <th>MONTHS_SINCE_FIRST_GIFT</th>\n",
       "      <th>FILE_AVG_GIFT</th>\n",
       "      <th>FILE_CARD_GIFT</th>\n",
       "    </tr>\n",
       "  </thead>\n",
       "  <tbody>\n",
       "    <tr>\n",
       "      <th>0</th>\n",
       "      <td>0</td>\n",
       "      <td>NaN</td>\n",
       "      <td>5</td>\n",
       "      <td>101</td>\n",
       "      <td>87.0</td>\n",
       "      <td>0</td>\n",
       "      <td>?</td>\n",
       "      <td>?</td>\n",
       "      <td>.</td>\n",
       "      <td>H</td>\n",
       "      <td>...</td>\n",
       "      <td>15.0</td>\n",
       "      <td>20.0</td>\n",
       "      <td>5.0</td>\n",
       "      <td>15.0</td>\n",
       "      <td>5</td>\n",
       "      <td>12</td>\n",
       "      <td>26</td>\n",
       "      <td>92</td>\n",
       "      <td>8.49</td>\n",
       "      <td>7</td>\n",
       "    </tr>\n",
       "    <tr>\n",
       "      <th>1</th>\n",
       "      <td>1</td>\n",
       "      <td>10.0</td>\n",
       "      <td>12</td>\n",
       "      <td>137</td>\n",
       "      <td>79.0</td>\n",
       "      <td>0</td>\n",
       "      <td>R</td>\n",
       "      <td>2</td>\n",
       "      <td>45</td>\n",
       "      <td>H</td>\n",
       "      <td>...</td>\n",
       "      <td>20.0</td>\n",
       "      <td>25.0</td>\n",
       "      <td>5.0</td>\n",
       "      <td>17.0</td>\n",
       "      <td>7</td>\n",
       "      <td>21</td>\n",
       "      <td>7</td>\n",
       "      <td>122</td>\n",
       "      <td>14.72</td>\n",
       "      <td>12</td>\n",
       "    </tr>\n",
       "    <tr>\n",
       "      <th>2</th>\n",
       "      <td>0</td>\n",
       "      <td>NaN</td>\n",
       "      <td>37</td>\n",
       "      <td>113</td>\n",
       "      <td>75.0</td>\n",
       "      <td>0</td>\n",
       "      <td>S</td>\n",
       "      <td>1</td>\n",
       "      <td>11</td>\n",
       "      <td>H</td>\n",
       "      <td>...</td>\n",
       "      <td>23.0</td>\n",
       "      <td>28.0</td>\n",
       "      <td>5.0</td>\n",
       "      <td>19.0</td>\n",
       "      <td>11</td>\n",
       "      <td>32</td>\n",
       "      <td>6</td>\n",
       "      <td>105</td>\n",
       "      <td>16.75</td>\n",
       "      <td>16</td>\n",
       "    </tr>\n",
       "    <tr>\n",
       "      <th>3</th>\n",
       "      <td>0</td>\n",
       "      <td>NaN</td>\n",
       "      <td>38</td>\n",
       "      <td>92</td>\n",
       "      <td>NaN</td>\n",
       "      <td>0</td>\n",
       "      <td>U</td>\n",
       "      <td>2</td>\n",
       "      <td>04</td>\n",
       "      <td>H</td>\n",
       "      <td>...</td>\n",
       "      <td>14.0</td>\n",
       "      <td>17.0</td>\n",
       "      <td>3.0</td>\n",
       "      <td>15.0</td>\n",
       "      <td>11</td>\n",
       "      <td>33</td>\n",
       "      <td>6</td>\n",
       "      <td>92</td>\n",
       "      <td>11.76</td>\n",
       "      <td>12</td>\n",
       "    </tr>\n",
       "    <tr>\n",
       "      <th>4</th>\n",
       "      <td>0</td>\n",
       "      <td>NaN</td>\n",
       "      <td>41</td>\n",
       "      <td>101</td>\n",
       "      <td>74.0</td>\n",
       "      <td>0</td>\n",
       "      <td>R</td>\n",
       "      <td>2</td>\n",
       "      <td>49</td>\n",
       "      <td>U</td>\n",
       "      <td>...</td>\n",
       "      <td>20.0</td>\n",
       "      <td>25.0</td>\n",
       "      <td>5.0</td>\n",
       "      <td>25.0</td>\n",
       "      <td>6</td>\n",
       "      <td>19</td>\n",
       "      <td>18</td>\n",
       "      <td>92</td>\n",
       "      <td>8.83</td>\n",
       "      <td>3</td>\n",
       "    </tr>\n",
       "  </tbody>\n",
       "</table>\n",
       "<p>5 rows × 50 columns</p>\n",
       "</div>"
      ],
      "text/plain": [
       "   TARGET_B  TARGET_D  CONTROL_NUMBER  MONTHS_SINCE_ORIGIN  DONOR_AGE  \\\n",
       "0         0       NaN               5                  101       87.0   \n",
       "1         1      10.0              12                  137       79.0   \n",
       "2         0       NaN              37                  113       75.0   \n",
       "3         0       NaN              38                   92        NaN   \n",
       "4         0       NaN              41                  101       74.0   \n",
       "\n",
       "   IN_HOUSE URBANICITY SES CLUSTER_CODE HOME_OWNER       ...        \\\n",
       "0         0          ?   ?            .          H       ...         \n",
       "1         0          R   2           45          H       ...         \n",
       "2         0          S   1           11          H       ...         \n",
       "3         0          U   2           04          H       ...         \n",
       "4         0          R   2           49          U       ...         \n",
       "\n",
       "  LIFETIME_GIFT_RANGE  LIFETIME_MAX_GIFT_AMT  LIFETIME_MIN_GIFT_AMT  \\\n",
       "0                15.0                   20.0                    5.0   \n",
       "1                20.0                   25.0                    5.0   \n",
       "2                23.0                   28.0                    5.0   \n",
       "3                14.0                   17.0                    3.0   \n",
       "4                20.0                   25.0                    5.0   \n",
       "\n",
       "  LAST_GIFT_AMT  CARD_PROM_12  NUMBER_PROM_12  MONTHS_SINCE_LAST_GIFT  \\\n",
       "0          15.0             5              12                      26   \n",
       "1          17.0             7              21                       7   \n",
       "2          19.0            11              32                       6   \n",
       "3          15.0            11              33                       6   \n",
       "4          25.0             6              19                      18   \n",
       "\n",
       "   MONTHS_SINCE_FIRST_GIFT  FILE_AVG_GIFT  FILE_CARD_GIFT  \n",
       "0                       92           8.49               7  \n",
       "1                      122          14.72              12  \n",
       "2                      105          16.75              16  \n",
       "3                       92          11.76              12  \n",
       "4                       92           8.83               3  \n",
       "\n",
       "[5 rows x 50 columns]"
      ]
     },
     "execution_count": 6,
     "metadata": {},
     "output_type": "execute_result"
    }
   ],
   "source": [
    "df.head()"
   ]
  },
  {
   "cell_type": "code",
   "execution_count": 7,
   "metadata": {},
   "outputs": [
    {
     "name": "stdout",
     "output_type": "stream",
     "text": [
      "<class 'pandas.core.frame.DataFrame'>\n",
      "RangeIndex: 19372 entries, 0 to 19371\n",
      "Data columns (total 50 columns):\n",
      "TARGET_B                       19372 non-null int64\n",
      "TARGET_D                       4843 non-null float64\n",
      "CONTROL_NUMBER                 19372 non-null int64\n",
      "MONTHS_SINCE_ORIGIN            19372 non-null int64\n",
      "DONOR_AGE                      14577 non-null float64\n",
      "IN_HOUSE                       19372 non-null int64\n",
      "URBANICITY                     19372 non-null object\n",
      "SES                            19372 non-null object\n",
      "CLUSTER_CODE                   19372 non-null object\n",
      "HOME_OWNER                     19372 non-null object\n",
      "DONOR_GENDER                   19372 non-null object\n",
      "INCOME_GROUP                   14980 non-null float64\n",
      "PUBLISHED_PHONE                19372 non-null int64\n",
      "OVERLAY_SOURCE                 19372 non-null object\n",
      "MOR_HIT_RATE                   19372 non-null int64\n",
      "WEALTH_RATING                  10562 non-null float64\n",
      "MEDIAN_HOME_VALUE              19372 non-null int64\n",
      "MEDIAN_HOUSEHOLD_INCOME        19372 non-null int64\n",
      "PCT_OWNER_OCCUPIED             19372 non-null int64\n",
      "PER_CAPITA_INCOME              19372 non-null int64\n",
      "PCT_ATTRIBUTE1                 19372 non-null int64\n",
      "PCT_ATTRIBUTE2                 19372 non-null int64\n",
      "PCT_ATTRIBUTE3                 19372 non-null int64\n",
      "PCT_ATTRIBUTE4                 19372 non-null int64\n",
      "PEP_STAR                       19372 non-null int64\n",
      "RECENT_STAR_STATUS             19372 non-null int64\n",
      "RECENCY_STATUS_96NK            19372 non-null object\n",
      "FREQUENCY_STATUS_97NK          19372 non-null int64\n",
      "RECENT_RESPONSE_PROP           19372 non-null float64\n",
      "RECENT_AVG_GIFT_AMT            19372 non-null float64\n",
      "RECENT_CARD_RESPONSE_PROP      19372 non-null float64\n",
      "RECENT_AVG_CARD_GIFT_AMT       19372 non-null float64\n",
      "RECENT_RESPONSE_COUNT          19372 non-null int64\n",
      "RECENT_CARD_RESPONSE_COUNT     19372 non-null int64\n",
      "MONTHS_SINCE_LAST_PROM_RESP    19126 non-null float64\n",
      "LIFETIME_CARD_PROM             19372 non-null int64\n",
      "LIFETIME_PROM                  19372 non-null int64\n",
      "LIFETIME_GIFT_AMOUNT           19372 non-null float64\n",
      "LIFETIME_GIFT_COUNT            19372 non-null int64\n",
      "LIFETIME_AVG_GIFT_AMT          19372 non-null float64\n",
      "LIFETIME_GIFT_RANGE            19372 non-null float64\n",
      "LIFETIME_MAX_GIFT_AMT          19372 non-null float64\n",
      "LIFETIME_MIN_GIFT_AMT          19372 non-null float64\n",
      "LAST_GIFT_AMT                  19372 non-null float64\n",
      "CARD_PROM_12                   19372 non-null int64\n",
      "NUMBER_PROM_12                 19372 non-null int64\n",
      "MONTHS_SINCE_LAST_GIFT         19372 non-null int64\n",
      "MONTHS_SINCE_FIRST_GIFT        19372 non-null int64\n",
      "FILE_AVG_GIFT                  19372 non-null float64\n",
      "FILE_CARD_GIFT                 19372 non-null int64\n",
      "dtypes: float64(16), int64(27), object(7)\n",
      "memory usage: 7.4+ MB\n"
     ]
    }
   ],
   "source": [
    "df.info()"
   ]
  },
  {
   "cell_type": "code",
   "execution_count": 8,
   "metadata": {},
   "outputs": [
    {
     "data": {
      "text/html": [
       "<div>\n",
       "<style scoped>\n",
       "    .dataframe tbody tr th:only-of-type {\n",
       "        vertical-align: middle;\n",
       "    }\n",
       "\n",
       "    .dataframe tbody tr th {\n",
       "        vertical-align: top;\n",
       "    }\n",
       "\n",
       "    .dataframe thead th {\n",
       "        text-align: right;\n",
       "    }\n",
       "</style>\n",
       "<table border=\"1\" class=\"dataframe\">\n",
       "  <thead>\n",
       "    <tr style=\"text-align: right;\">\n",
       "      <th></th>\n",
       "      <th>TARGET_B</th>\n",
       "      <th>TARGET_D</th>\n",
       "      <th>CONTROL_NUMBER</th>\n",
       "      <th>MONTHS_SINCE_ORIGIN</th>\n",
       "      <th>DONOR_AGE</th>\n",
       "      <th>IN_HOUSE</th>\n",
       "      <th>INCOME_GROUP</th>\n",
       "      <th>PUBLISHED_PHONE</th>\n",
       "      <th>MOR_HIT_RATE</th>\n",
       "      <th>WEALTH_RATING</th>\n",
       "      <th>...</th>\n",
       "      <th>LIFETIME_GIFT_RANGE</th>\n",
       "      <th>LIFETIME_MAX_GIFT_AMT</th>\n",
       "      <th>LIFETIME_MIN_GIFT_AMT</th>\n",
       "      <th>LAST_GIFT_AMT</th>\n",
       "      <th>CARD_PROM_12</th>\n",
       "      <th>NUMBER_PROM_12</th>\n",
       "      <th>MONTHS_SINCE_LAST_GIFT</th>\n",
       "      <th>MONTHS_SINCE_FIRST_GIFT</th>\n",
       "      <th>FILE_AVG_GIFT</th>\n",
       "      <th>FILE_CARD_GIFT</th>\n",
       "    </tr>\n",
       "  </thead>\n",
       "  <tbody>\n",
       "    <tr>\n",
       "      <th>count</th>\n",
       "      <td>19372.000000</td>\n",
       "      <td>4843.000000</td>\n",
       "      <td>19372.000000</td>\n",
       "      <td>19372.000000</td>\n",
       "      <td>14577.000000</td>\n",
       "      <td>19372.000000</td>\n",
       "      <td>14980.000000</td>\n",
       "      <td>19372.000000</td>\n",
       "      <td>19372.000000</td>\n",
       "      <td>10562.000000</td>\n",
       "      <td>...</td>\n",
       "      <td>19372.000000</td>\n",
       "      <td>19372.000000</td>\n",
       "      <td>19372.000000</td>\n",
       "      <td>19372.000000</td>\n",
       "      <td>19372.000000</td>\n",
       "      <td>19372.000000</td>\n",
       "      <td>19372.000000</td>\n",
       "      <td>19372.000000</td>\n",
       "      <td>19372.000000</td>\n",
       "      <td>19372.000000</td>\n",
       "    </tr>\n",
       "    <tr>\n",
       "      <th>mean</th>\n",
       "      <td>0.250000</td>\n",
       "      <td>15.624344</td>\n",
       "      <td>96546.225377</td>\n",
       "      <td>73.409973</td>\n",
       "      <td>58.919051</td>\n",
       "      <td>0.073198</td>\n",
       "      <td>3.907543</td>\n",
       "      <td>0.497729</td>\n",
       "      <td>3.361656</td>\n",
       "      <td>5.005397</td>\n",
       "      <td>...</td>\n",
       "      <td>11.587876</td>\n",
       "      <td>19.208808</td>\n",
       "      <td>7.620932</td>\n",
       "      <td>16.584199</td>\n",
       "      <td>5.367128</td>\n",
       "      <td>12.901869</td>\n",
       "      <td>18.191152</td>\n",
       "      <td>69.482088</td>\n",
       "      <td>12.858338</td>\n",
       "      <td>5.273591</td>\n",
       "    </tr>\n",
       "    <tr>\n",
       "      <th>std</th>\n",
       "      <td>0.433024</td>\n",
       "      <td>12.445137</td>\n",
       "      <td>55830.643871</td>\n",
       "      <td>41.255574</td>\n",
       "      <td>16.669382</td>\n",
       "      <td>0.260469</td>\n",
       "      <td>1.864796</td>\n",
       "      <td>0.500008</td>\n",
       "      <td>9.503481</td>\n",
       "      <td>2.815386</td>\n",
       "      <td>...</td>\n",
       "      <td>15.116893</td>\n",
       "      <td>16.101128</td>\n",
       "      <td>7.959786</td>\n",
       "      <td>11.977558</td>\n",
       "      <td>1.264205</td>\n",
       "      <td>4.642072</td>\n",
       "      <td>4.033065</td>\n",
       "      <td>37.568169</td>\n",
       "      <td>8.787758</td>\n",
       "      <td>4.607063</td>\n",
       "    </tr>\n",
       "    <tr>\n",
       "      <th>min</th>\n",
       "      <td>0.000000</td>\n",
       "      <td>1.000000</td>\n",
       "      <td>5.000000</td>\n",
       "      <td>5.000000</td>\n",
       "      <td>0.000000</td>\n",
       "      <td>0.000000</td>\n",
       "      <td>1.000000</td>\n",
       "      <td>0.000000</td>\n",
       "      <td>0.000000</td>\n",
       "      <td>0.000000</td>\n",
       "      <td>...</td>\n",
       "      <td>0.000000</td>\n",
       "      <td>5.000000</td>\n",
       "      <td>0.000000</td>\n",
       "      <td>0.000000</td>\n",
       "      <td>0.000000</td>\n",
       "      <td>2.000000</td>\n",
       "      <td>4.000000</td>\n",
       "      <td>15.000000</td>\n",
       "      <td>1.360000</td>\n",
       "      <td>0.000000</td>\n",
       "    </tr>\n",
       "    <tr>\n",
       "      <th>25%</th>\n",
       "      <td>0.000000</td>\n",
       "      <td>10.000000</td>\n",
       "      <td>48289.000000</td>\n",
       "      <td>29.000000</td>\n",
       "      <td>47.000000</td>\n",
       "      <td>0.000000</td>\n",
       "      <td>2.000000</td>\n",
       "      <td>0.000000</td>\n",
       "      <td>0.000000</td>\n",
       "      <td>3.000000</td>\n",
       "      <td>...</td>\n",
       "      <td>5.000000</td>\n",
       "      <td>12.000000</td>\n",
       "      <td>3.000000</td>\n",
       "      <td>10.000000</td>\n",
       "      <td>5.000000</td>\n",
       "      <td>11.000000</td>\n",
       "      <td>16.000000</td>\n",
       "      <td>33.000000</td>\n",
       "      <td>8.000000</td>\n",
       "      <td>2.000000</td>\n",
       "    </tr>\n",
       "    <tr>\n",
       "      <th>50%</th>\n",
       "      <td>0.000000</td>\n",
       "      <td>13.000000</td>\n",
       "      <td>96937.000000</td>\n",
       "      <td>65.000000</td>\n",
       "      <td>60.000000</td>\n",
       "      <td>0.000000</td>\n",
       "      <td>4.000000</td>\n",
       "      <td>0.000000</td>\n",
       "      <td>0.000000</td>\n",
       "      <td>5.000000</td>\n",
       "      <td>...</td>\n",
       "      <td>10.000000</td>\n",
       "      <td>16.000000</td>\n",
       "      <td>5.000000</td>\n",
       "      <td>15.000000</td>\n",
       "      <td>6.000000</td>\n",
       "      <td>12.000000</td>\n",
       "      <td>18.000000</td>\n",
       "      <td>65.000000</td>\n",
       "      <td>11.200000</td>\n",
       "      <td>4.000000</td>\n",
       "    </tr>\n",
       "    <tr>\n",
       "      <th>75%</th>\n",
       "      <td>0.250000</td>\n",
       "      <td>20.000000</td>\n",
       "      <td>145429.500000</td>\n",
       "      <td>113.000000</td>\n",
       "      <td>73.000000</td>\n",
       "      <td>0.000000</td>\n",
       "      <td>5.000000</td>\n",
       "      <td>1.000000</td>\n",
       "      <td>3.000000</td>\n",
       "      <td>7.000000</td>\n",
       "      <td>...</td>\n",
       "      <td>15.000000</td>\n",
       "      <td>21.000000</td>\n",
       "      <td>10.000000</td>\n",
       "      <td>20.000000</td>\n",
       "      <td>6.000000</td>\n",
       "      <td>13.000000</td>\n",
       "      <td>20.000000</td>\n",
       "      <td>105.000000</td>\n",
       "      <td>15.000000</td>\n",
       "      <td>8.000000</td>\n",
       "    </tr>\n",
       "    <tr>\n",
       "      <th>max</th>\n",
       "      <td>1.000000</td>\n",
       "      <td>200.000000</td>\n",
       "      <td>191779.000000</td>\n",
       "      <td>137.000000</td>\n",
       "      <td>87.000000</td>\n",
       "      <td>1.000000</td>\n",
       "      <td>7.000000</td>\n",
       "      <td>1.000000</td>\n",
       "      <td>241.000000</td>\n",
       "      <td>9.000000</td>\n",
       "      <td>...</td>\n",
       "      <td>997.000000</td>\n",
       "      <td>1000.000000</td>\n",
       "      <td>450.000000</td>\n",
       "      <td>450.000000</td>\n",
       "      <td>17.000000</td>\n",
       "      <td>64.000000</td>\n",
       "      <td>27.000000</td>\n",
       "      <td>260.000000</td>\n",
       "      <td>450.000000</td>\n",
       "      <td>41.000000</td>\n",
       "    </tr>\n",
       "  </tbody>\n",
       "</table>\n",
       "<p>8 rows × 43 columns</p>\n",
       "</div>"
      ],
      "text/plain": [
       "           TARGET_B     TARGET_D  CONTROL_NUMBER  MONTHS_SINCE_ORIGIN  \\\n",
       "count  19372.000000  4843.000000    19372.000000         19372.000000   \n",
       "mean       0.250000    15.624344    96546.225377            73.409973   \n",
       "std        0.433024    12.445137    55830.643871            41.255574   \n",
       "min        0.000000     1.000000        5.000000             5.000000   \n",
       "25%        0.000000    10.000000    48289.000000            29.000000   \n",
       "50%        0.000000    13.000000    96937.000000            65.000000   \n",
       "75%        0.250000    20.000000   145429.500000           113.000000   \n",
       "max        1.000000   200.000000   191779.000000           137.000000   \n",
       "\n",
       "          DONOR_AGE      IN_HOUSE  INCOME_GROUP  PUBLISHED_PHONE  \\\n",
       "count  14577.000000  19372.000000  14980.000000     19372.000000   \n",
       "mean      58.919051      0.073198      3.907543         0.497729   \n",
       "std       16.669382      0.260469      1.864796         0.500008   \n",
       "min        0.000000      0.000000      1.000000         0.000000   \n",
       "25%       47.000000      0.000000      2.000000         0.000000   \n",
       "50%       60.000000      0.000000      4.000000         0.000000   \n",
       "75%       73.000000      0.000000      5.000000         1.000000   \n",
       "max       87.000000      1.000000      7.000000         1.000000   \n",
       "\n",
       "       MOR_HIT_RATE  WEALTH_RATING       ...        LIFETIME_GIFT_RANGE  \\\n",
       "count  19372.000000   10562.000000       ...               19372.000000   \n",
       "mean       3.361656       5.005397       ...                  11.587876   \n",
       "std        9.503481       2.815386       ...                  15.116893   \n",
       "min        0.000000       0.000000       ...                   0.000000   \n",
       "25%        0.000000       3.000000       ...                   5.000000   \n",
       "50%        0.000000       5.000000       ...                  10.000000   \n",
       "75%        3.000000       7.000000       ...                  15.000000   \n",
       "max      241.000000       9.000000       ...                 997.000000   \n",
       "\n",
       "       LIFETIME_MAX_GIFT_AMT  LIFETIME_MIN_GIFT_AMT  LAST_GIFT_AMT  \\\n",
       "count           19372.000000           19372.000000   19372.000000   \n",
       "mean               19.208808               7.620932      16.584199   \n",
       "std                16.101128               7.959786      11.977558   \n",
       "min                 5.000000               0.000000       0.000000   \n",
       "25%                12.000000               3.000000      10.000000   \n",
       "50%                16.000000               5.000000      15.000000   \n",
       "75%                21.000000              10.000000      20.000000   \n",
       "max              1000.000000             450.000000     450.000000   \n",
       "\n",
       "       CARD_PROM_12  NUMBER_PROM_12  MONTHS_SINCE_LAST_GIFT  \\\n",
       "count  19372.000000    19372.000000            19372.000000   \n",
       "mean       5.367128       12.901869               18.191152   \n",
       "std        1.264205        4.642072                4.033065   \n",
       "min        0.000000        2.000000                4.000000   \n",
       "25%        5.000000       11.000000               16.000000   \n",
       "50%        6.000000       12.000000               18.000000   \n",
       "75%        6.000000       13.000000               20.000000   \n",
       "max       17.000000       64.000000               27.000000   \n",
       "\n",
       "       MONTHS_SINCE_FIRST_GIFT  FILE_AVG_GIFT  FILE_CARD_GIFT  \n",
       "count             19372.000000   19372.000000    19372.000000  \n",
       "mean                 69.482088      12.858338        5.273591  \n",
       "std                  37.568169       8.787758        4.607063  \n",
       "min                  15.000000       1.360000        0.000000  \n",
       "25%                  33.000000       8.000000        2.000000  \n",
       "50%                  65.000000      11.200000        4.000000  \n",
       "75%                 105.000000      15.000000        8.000000  \n",
       "max                 260.000000     450.000000       41.000000  \n",
       "\n",
       "[8 rows x 43 columns]"
      ]
     },
     "execution_count": 8,
     "metadata": {},
     "output_type": "execute_result"
    }
   ],
   "source": [
    "df.describe()"
   ]
  },
  {
   "cell_type": "code",
   "execution_count": 9,
   "metadata": {},
   "outputs": [
    {
     "data": {
      "text/plain": [
       "Index(['TARGET_B', 'TARGET_D', 'CONTROL_NUMBER', 'MONTHS_SINCE_ORIGIN',\n",
       "       'DONOR_AGE', 'IN_HOUSE', 'URBANICITY', 'SES', 'CLUSTER_CODE',\n",
       "       'HOME_OWNER', 'DONOR_GENDER', 'INCOME_GROUP', 'PUBLISHED_PHONE',\n",
       "       'OVERLAY_SOURCE', 'MOR_HIT_RATE', 'WEALTH_RATING', 'MEDIAN_HOME_VALUE',\n",
       "       'MEDIAN_HOUSEHOLD_INCOME', 'PCT_OWNER_OCCUPIED', 'PER_CAPITA_INCOME',\n",
       "       'PCT_ATTRIBUTE1', 'PCT_ATTRIBUTE2', 'PCT_ATTRIBUTE3', 'PCT_ATTRIBUTE4',\n",
       "       'PEP_STAR', 'RECENT_STAR_STATUS', 'RECENCY_STATUS_96NK',\n",
       "       'FREQUENCY_STATUS_97NK', 'RECENT_RESPONSE_PROP', 'RECENT_AVG_GIFT_AMT',\n",
       "       'RECENT_CARD_RESPONSE_PROP', 'RECENT_AVG_CARD_GIFT_AMT',\n",
       "       'RECENT_RESPONSE_COUNT', 'RECENT_CARD_RESPONSE_COUNT',\n",
       "       'MONTHS_SINCE_LAST_PROM_RESP', 'LIFETIME_CARD_PROM', 'LIFETIME_PROM',\n",
       "       'LIFETIME_GIFT_AMOUNT', 'LIFETIME_GIFT_COUNT', 'LIFETIME_AVG_GIFT_AMT',\n",
       "       'LIFETIME_GIFT_RANGE', 'LIFETIME_MAX_GIFT_AMT', 'LIFETIME_MIN_GIFT_AMT',\n",
       "       'LAST_GIFT_AMT', 'CARD_PROM_12', 'NUMBER_PROM_12',\n",
       "       'MONTHS_SINCE_LAST_GIFT', 'MONTHS_SINCE_FIRST_GIFT', 'FILE_AVG_GIFT',\n",
       "       'FILE_CARD_GIFT'],\n",
       "      dtype='object')"
      ]
     },
     "execution_count": 9,
     "metadata": {},
     "output_type": "execute_result"
    }
   ],
   "source": [
    "df.columns"
   ]
  },
  {
   "cell_type": "code",
   "execution_count": 10,
   "metadata": {},
   "outputs": [],
   "source": [
    "#Use heatmaps from seaborn to get a graphical representation of the data and missing null values"
   ]
  },
  {
   "cell_type": "code",
   "execution_count": 11,
   "metadata": {},
   "outputs": [
    {
     "data": {
      "text/plain": [
       "<matplotlib.axes._subplots.AxesSubplot at 0x1df8d29c7b8>"
      ]
     },
     "execution_count": 11,
     "metadata": {},
     "output_type": "execute_result"
    },
    {
     "data": {
      "image/png": "[encoded data removed]",
      "text/plain": [
       "<Figure size 1296x432 with 1 Axes>"
      ]
     },
     "metadata": {},
     "output_type": "display_data"
    }
   ],
   "source": [
    "plt.figure(figsize=(18,6))\n",
    "ss.heatmap(df.isnull(),yticklabels=False,cbar=False,cmap='viridis')"
   ]
  },
  {
   "cell_type": "code",
   "execution_count": 12,
   "metadata": {},
   "outputs": [],
   "source": [
    "#We can see that there are missing fields in \n",
    "#1)Donor_Age, \n",
    "#2)Income_Group, \n",
    "#3)Wealth_Rating,\n",
    "#4)Months_Since_Last_Prom_Response\n",
    "\n",
    "\n",
    "#We will complete the missing age fields using the median age"
   ]
  },
  {
   "cell_type": "code",
   "execution_count": 13,
   "metadata": {},
   "outputs": [
    {
     "data": {
      "text/plain": [
       "60.0"
      ]
     },
     "execution_count": 13,
     "metadata": {},
     "output_type": "execute_result"
    }
   ],
   "source": [
    "#This will give us the median age\n",
    "\n",
    "df['DONOR_AGE'].median()"
   ]
  },
  {
   "cell_type": "code",
   "execution_count": 14,
   "metadata": {},
   "outputs": [],
   "source": [
    "#Creating a function to find null age values and complete it with the median age of 60\n",
    "\n",
    "\n",
    "def impute_age(cols):\n",
    "    Age = cols[0]\n",
    "    \n",
    "    if pd.isnull(Age):\n",
    "        return 60\n",
    "    else:\n",
    "        return Age"
   ]
  },
  {
   "cell_type": "code",
   "execution_count": 15,
   "metadata": {},
   "outputs": [],
   "source": [
    "#Now to apply the function to complete themissing age fields"
   ]
  },
  {
   "cell_type": "code",
   "execution_count": 16,
   "metadata": {},
   "outputs": [],
   "source": [
    "df['DONOR_AGE'] = df[['DONOR_AGE']].apply(impute_age,axis=1)"
   ]
  },
  {
   "cell_type": "code",
   "execution_count": 17,
   "metadata": {},
   "outputs": [],
   "source": [
    "#To complete the income group levels, I will be using the median income_group, \n",
    "#using the same method as used to complete missing age fields\n"
   ]
  },
  {
   "cell_type": "code",
   "execution_count": 18,
   "metadata": {},
   "outputs": [
    {
     "data": {
      "text/plain": [
       "4.0"
      ]
     },
     "execution_count": 18,
     "metadata": {},
     "output_type": "execute_result"
    }
   ],
   "source": [
    "df['INCOME_GROUP'].median()"
   ]
  },
  {
   "cell_type": "code",
   "execution_count": 19,
   "metadata": {},
   "outputs": [],
   "source": [
    "def impute_ig(cols):\n",
    "    ig = cols[0]\n",
    "    \n",
    "    if pd.isnull(ig):\n",
    "        return 4\n",
    "    else:\n",
    "        return ig"
   ]
  },
  {
   "cell_type": "code",
   "execution_count": 20,
   "metadata": {},
   "outputs": [],
   "source": [
    "df['INCOME_GROUP'] = df[['INCOME_GROUP']].apply(impute_ig,axis=1)"
   ]
  },
  {
   "cell_type": "code",
   "execution_count": 21,
   "metadata": {},
   "outputs": [],
   "source": [
    "#To fill in missing values in wealth rating, I am exploring the wealth rating of different donors based on their income group\n",
    "# using seaborns's boxplot"
   ]
  },
  {
   "cell_type": "code",
   "execution_count": 22,
   "metadata": {},
   "outputs": [
    {
     "data": {
      "text/plain": [
       "<matplotlib.axes._subplots.AxesSubplot at 0x1df8d2b46d8>"
      ]
     },
     "execution_count": 22,
     "metadata": {},
     "output_type": "execute_result"
    },
    {
     "data": {
      "image/png": "[encoded data removed]",
      "text/plain": [
       "<Figure size 864x504 with 1 Axes>"
      ]
     },
     "metadata": {},
     "output_type": "display_data"
    }
   ],
   "source": [
    "plt.figure(figsize=(12, 7))\n",
    "ss.boxplot(y='WEALTH_RATING',x='INCOME_GROUP',data=df,palette='winter')"
   ]
  },
  {
   "cell_type": "code",
   "execution_count": 23,
   "metadata": {},
   "outputs": [],
   "source": [
    "#We can see that there is a relationship between these 2 fields, i.e. the wealth group of a person depends on the income_group\n",
    "#We will use this to impute missing wealth_rating based on Income group, and using the meean values for each group from the plot above"
   ]
  },
  {
   "cell_type": "code",
   "execution_count": 24,
   "metadata": {},
   "outputs": [],
   "source": [
    "def impute_wealthr(cols):\n",
    "    wealthr = cols[0]\n",
    "    incomeg = cols[1]\n",
    "    \n",
    "    if pd.isnull(wealthr):\n",
    "\n",
    "        if incomeg == 1:\n",
    "            return 3\n",
    "\n",
    "        elif incomeg == 2:\n",
    "            return 4\n",
    "        \n",
    "        elif incomeg == 3:\n",
    "            return 5\n",
    "        \n",
    "        elif incomeg == 4:\n",
    "            return 5\n",
    "        \n",
    "        elif incomeg == 5:\n",
    "            return 6\n",
    "        \n",
    "        elif incomeg == 6:\n",
    "            return 7\n",
    "        \n",
    "        else:\n",
    "            return 8\n",
    "\n",
    "    else:\n",
    "        return wealthr"
   ]
  },
  {
   "cell_type": "code",
   "execution_count": 25,
   "metadata": {},
   "outputs": [],
   "source": [
    "df['WEALTH_RATING'] = df[['WEALTH_RATING','INCOME_GROUP']].apply(impute_wealthr,axis=1)"
   ]
  },
  {
   "cell_type": "code",
   "execution_count": 26,
   "metadata": {},
   "outputs": [],
   "source": [
    "#Missing fields in MONTHS_SINCE_LAST_PROM_RESP\n",
    "# As these prospects have not responded to a promotion, and as there are 246 such missing fields, i am deleting them, \n",
    "#as the effect of this on the training model will be negligible"
   ]
  },
  {
   "cell_type": "code",
   "execution_count": 27,
   "metadata": {},
   "outputs": [],
   "source": [
    "df['MONTHS_SINCE_LAST_PROM_RESP'] = df['MONTHS_SINCE_LAST_PROM_RESP'].replace('', np.nan)\n",
    "df = df.dropna(axis=0, subset=['MONTHS_SINCE_LAST_PROM_RESP'])"
   ]
  },
  {
   "cell_type": "code",
   "execution_count": 28,
   "metadata": {},
   "outputs": [],
   "source": [
    "#Some values in CLUSTER_CODE have ' .' as values. I am changing this to 0 to avoid errors when the model is trained"
   ]
  },
  {
   "cell_type": "code",
   "execution_count": 29,
   "metadata": {},
   "outputs": [],
   "source": [
    "df['CLUSTER_CODE'].replace(' .',0,inplace = True)"
   ]
  },
  {
   "cell_type": "markdown",
   "metadata": {},
   "source": [
    "Categorical Features\n",
    "\n",
    "Notice that the URBANICITY, HOME_OWNER, DONOR_GENDER, OVERLAY_SOURCE, RECENCY_STATUS column are categorical\n",
    "\n",
    "That means we need to transform them using dummy variables so sklearn will be able to understand them. Let's do this in one clean step using pd.get_dummies."
   ]
  },
  {
   "cell_type": "code",
   "execution_count": 30,
   "metadata": {},
   "outputs": [
    {
     "data": {
      "text/plain": [
       "Index(['TARGET_B', 'TARGET_D', 'CONTROL_NUMBER', 'MONTHS_SINCE_ORIGIN',\n",
       "       'DONOR_AGE', 'IN_HOUSE', 'URBANICITY', 'SES', 'CLUSTER_CODE',\n",
       "       'HOME_OWNER', 'DONOR_GENDER', 'INCOME_GROUP', 'PUBLISHED_PHONE',\n",
       "       'OVERLAY_SOURCE', 'MOR_HIT_RATE', 'WEALTH_RATING', 'MEDIAN_HOME_VALUE',\n",
       "       'MEDIAN_HOUSEHOLD_INCOME', 'PCT_OWNER_OCCUPIED', 'PER_CAPITA_INCOME',\n",
       "       'PCT_ATTRIBUTE1', 'PCT_ATTRIBUTE2', 'PCT_ATTRIBUTE3', 'PCT_ATTRIBUTE4',\n",
       "       'PEP_STAR', 'RECENT_STAR_STATUS', 'RECENCY_STATUS_96NK',\n",
       "       'FREQUENCY_STATUS_97NK', 'RECENT_RESPONSE_PROP', 'RECENT_AVG_GIFT_AMT',\n",
       "       'RECENT_CARD_RESPONSE_PROP', 'RECENT_AVG_CARD_GIFT_AMT',\n",
       "       'RECENT_RESPONSE_COUNT', 'RECENT_CARD_RESPONSE_COUNT',\n",
       "       'MONTHS_SINCE_LAST_PROM_RESP', 'LIFETIME_CARD_PROM', 'LIFETIME_PROM',\n",
       "       'LIFETIME_GIFT_AMOUNT', 'LIFETIME_GIFT_COUNT', 'LIFETIME_AVG_GIFT_AMT',\n",
       "       'LIFETIME_GIFT_RANGE', 'LIFETIME_MAX_GIFT_AMT', 'LIFETIME_MIN_GIFT_AMT',\n",
       "       'LAST_GIFT_AMT', 'CARD_PROM_12', 'NUMBER_PROM_12',\n",
       "       'MONTHS_SINCE_LAST_GIFT', 'MONTHS_SINCE_FIRST_GIFT', 'FILE_AVG_GIFT',\n",
       "       'FILE_CARD_GIFT'],\n",
       "      dtype='object')"
      ]
     },
     "execution_count": 30,
     "metadata": {},
     "output_type": "execute_result"
    }
   ],
   "source": [
    "#For easy reference, using .columns to get the names of the columns\n",
    "df.columns"
   ]
  },
  {
   "cell_type": "code",
   "execution_count": 31,
   "metadata": {},
   "outputs": [],
   "source": [
    "#Now to use pd.get_dummies to transform categorical columns"
   ]
  },
  {
   "cell_type": "code",
   "execution_count": 32,
   "metadata": {},
   "outputs": [
    {
     "name": "stdout",
     "output_type": "stream",
     "text": [
      "   TARGET_B  TARGET_D  CONTROL_NUMBER  MONTHS_SINCE_ORIGIN  DONOR_AGE  \\\n",
      "0         0       NaN               5                  101       87.0   \n",
      "1         1      10.0              12                  137       79.0   \n",
      "2         0       NaN              37                  113       75.0   \n",
      "3         0       NaN              38                   92       60.0   \n",
      "4         0       NaN              41                  101       74.0   \n",
      "\n",
      "   IN_HOUSE CLUSTER_CODE  INCOME_GROUP  PUBLISHED_PHONE  MOR_HIT_RATE  \\\n",
      "0         0            0           2.0                0             0   \n",
      "1         0           45           7.0                0             0   \n",
      "2         0           11           5.0                0             0   \n",
      "3         0           04           6.0                1             0   \n",
      "4         0           49           2.0                1             8   \n",
      "\n",
      "           ...            DONOR_GENDER_M  DONOR_GENDER_U  OVERLAY_SOURCE_M  \\\n",
      "0          ...                         1               0                 0   \n",
      "1          ...                         1               0                 0   \n",
      "2          ...                         0               0                 0   \n",
      "3          ...                         0               0                 0   \n",
      "4          ...                         0               0                 0   \n",
      "\n",
      "   OVERLAY_SOURCE_N  OVERLAY_SOURCE_P  RECENCY_STATUS_96NK_E  \\\n",
      "0                 0                 1                      0   \n",
      "1                 0                 1                      0   \n",
      "2                 0                 1                      0   \n",
      "3                 0                 0                      0   \n",
      "4                 0                 0                      0   \n",
      "\n",
      "   RECENCY_STATUS_96NK_F  RECENCY_STATUS_96NK_L  RECENCY_STATUS_96NK_N  \\\n",
      "0                      0                      0                      0   \n",
      "1                      0                      0                      0   \n",
      "2                      0                      0                      0   \n",
      "3                      0                      0                      0   \n",
      "4                      0                      0                      0   \n",
      "\n",
      "   RECENCY_STATUS_96NK_S  \n",
      "0                      0  \n",
      "1                      1  \n",
      "2                      1  \n",
      "3                      0  \n",
      "4                      0  \n",
      "\n",
      "[5 rows x 65 columns]\n"
     ]
    }
   ],
   "source": [
    "\n",
    "expanded_df =pd.get_dummies(df, columns=['URBANICITY','SES','HOME_OWNER', 'DONOR_GENDER', 'OVERLAY_SOURCE', 'RECENCY_STATUS_96NK'], drop_first = True)\n",
    "print(expanded_df.head())"
   ]
  },
  {
   "cell_type": "code",
   "execution_count": 33,
   "metadata": {},
   "outputs": [
    {
     "data": {
      "text/plain": [
       "Index(['TARGET_B', 'TARGET_D', 'CONTROL_NUMBER', 'MONTHS_SINCE_ORIGIN',\n",
       "       'DONOR_AGE', 'IN_HOUSE', 'CLUSTER_CODE', 'INCOME_GROUP',\n",
       "       'PUBLISHED_PHONE', 'MOR_HIT_RATE', 'WEALTH_RATING', 'MEDIAN_HOME_VALUE',\n",
       "       'MEDIAN_HOUSEHOLD_INCOME', 'PCT_OWNER_OCCUPIED', 'PER_CAPITA_INCOME',\n",
       "       'PCT_ATTRIBUTE1', 'PCT_ATTRIBUTE2', 'PCT_ATTRIBUTE3', 'PCT_ATTRIBUTE4',\n",
       "       'PEP_STAR', 'RECENT_STAR_STATUS', 'FREQUENCY_STATUS_97NK',\n",
       "       'RECENT_RESPONSE_PROP', 'RECENT_AVG_GIFT_AMT',\n",
       "       'RECENT_CARD_RESPONSE_PROP', 'RECENT_AVG_CARD_GIFT_AMT',\n",
       "       'RECENT_RESPONSE_COUNT', 'RECENT_CARD_RESPONSE_COUNT',\n",
       "       'MONTHS_SINCE_LAST_PROM_RESP', 'LIFETIME_CARD_PROM', 'LIFETIME_PROM',\n",
       "       'LIFETIME_GIFT_AMOUNT', 'LIFETIME_GIFT_COUNT', 'LIFETIME_AVG_GIFT_AMT',\n",
       "       'LIFETIME_GIFT_RANGE', 'LIFETIME_MAX_GIFT_AMT', 'LIFETIME_MIN_GIFT_AMT',\n",
       "       'LAST_GIFT_AMT', 'CARD_PROM_12', 'NUMBER_PROM_12',\n",
       "       'MONTHS_SINCE_LAST_GIFT', 'MONTHS_SINCE_FIRST_GIFT', 'FILE_AVG_GIFT',\n",
       "       'FILE_CARD_GIFT', 'URBANICITY_C', 'URBANICITY_R', 'URBANICITY_S',\n",
       "       'URBANICITY_T', 'URBANICITY_U', 'SES_2', 'SES_3', 'SES_4', 'SES_?',\n",
       "       'HOME_OWNER_U', 'DONOR_GENDER_F', 'DONOR_GENDER_M', 'DONOR_GENDER_U',\n",
       "       'OVERLAY_SOURCE_M', 'OVERLAY_SOURCE_N', 'OVERLAY_SOURCE_P',\n",
       "       'RECENCY_STATUS_96NK_E', 'RECENCY_STATUS_96NK_F',\n",
       "       'RECENCY_STATUS_96NK_L', 'RECENCY_STATUS_96NK_N',\n",
       "       'RECENCY_STATUS_96NK_S'],\n",
       "      dtype='object')"
      ]
     },
     "execution_count": 33,
     "metadata": {},
     "output_type": "execute_result"
    }
   ],
   "source": [
    "#Checking new column names\n",
    "expanded_df.columns"
   ]
  },
  {
   "cell_type": "markdown",
   "metadata": {},
   "source": [
    "Train Test Split\n",
    "Now its time to split our data into a training set and a testing set. We will use SKLearn to do this."
   ]
  },
  {
   "cell_type": "code",
   "execution_count": 34,
   "metadata": {},
   "outputs": [],
   "source": [
    "from sklearn.model_selection import train_test_split"
   ]
  },
  {
   "cell_type": "code",
   "execution_count": 36,
   "metadata": {},
   "outputs": [],
   "source": [
    "X = expanded_df.drop(['TARGET_B','TARGET_D'],axis=1)\n",
    "y= expanded_df['TARGET_B']"
   ]
  },
  {
   "cell_type": "code",
   "execution_count": 37,
   "metadata": {},
   "outputs": [],
   "source": [
    "X_train, X_test, y_train, y_test = train_test_split(X, y, test_size=0.3)"
   ]
  },
  {
   "cell_type": "markdown",
   "metadata": {},
   "source": [
    "Training the Random Forest model\n",
    "Now its time to train our model!\n",
    "\n",
    "Below we create an instance of the RandomForestClassifier class and fit it to our training data from the previous step."
   ]
  },
  {
   "cell_type": "code",
   "execution_count": 66,
   "metadata": {},
   "outputs": [
    {
     "data": {
      "text/plain": [
       "RandomForestClassifier(bootstrap=True, class_weight=None, criterion='gini',\n",
       "            max_depth=None, max_features='auto', max_leaf_nodes=5,\n",
       "            min_impurity_decrease=0.0, min_impurity_split=None,\n",
       "            min_samples_leaf=20, min_samples_split=5,\n",
       "            min_weight_fraction_leaf=0.0, n_estimators=50, n_jobs=1,\n",
       "            oob_score=False, random_state=None, verbose=0,\n",
       "            warm_start=False)"
      ]
     },
     "execution_count": 66,
     "metadata": {},
     "output_type": "execute_result"
    }
   ],
   "source": [
    "# Create the random forest instance, and train it with training data\n",
    "from sklearn.ensemble import RandomForestClassifier\n",
    "\n",
    "rf = RandomForestClassifier (n_estimators = 100)\n",
    "\n",
    "rf2 = RandomForestClassifier (n_estimators = 50, max_leaf_nodes= 5,\n",
    "            min_samples_leaf=20, min_samples_split=5)\n",
    "\n",
    "rf.fit(X_train,y_train.values.ravel())\n",
    "\n",
    "rf2.fit(X_train,y_train.values.ravel())"
   ]
  },
  {
   "cell_type": "code",
   "execution_count": null,
   "metadata": {},
   "outputs": [],
   "source": [
    "#Now to get the accuracy of the model"
   ]
  },
  {
   "cell_type": "code",
   "execution_count": 45,
   "metadata": {},
   "outputs": [
    {
     "name": "stdout",
     "output_type": "stream",
     "text": [
      "My first model accuracy is = 74.86929243638899%\n",
      "My second model accuracy is = 74.60787730916695%\n"
     ]
    }
   ],
   "source": [
    "accuracy = rf.score(X_test, y_test)\n",
    "print('My first model accuracy is = {}%'.format(accuracy*100))\n",
    "\n",
    "accuracy = rf2.score(X_test, y_test)\n",
    "print('My second model accuracy is = {}%'.format(accuracy*100))"
   ]
  },
  {
   "cell_type": "code",
   "execution_count": 46,
   "metadata": {
    "scrolled": true
   },
   "outputs": [
    {
     "name": "stdout",
     "output_type": "stream",
     "text": [
      "Feature ranking:\n",
      "1. feature 0 (0.040909)\n",
      "2. feature 9 (0.040157)\n",
      "3. feature 12 (0.037918)\n",
      "4. feature 10 (0.035717)\n",
      "5. feature 11 (0.033451)\n",
      "6. feature 15 (0.033291)\n",
      "7. feature 16 (0.033055)\n",
      "8. feature 14 (0.032238)\n",
      "9. feature 31 (0.031219)\n",
      "10. feature 2 (0.030849)\n",
      "11. feature 40 (0.030664)\n",
      "12. feature 29 (0.030377)\n",
      "13. feature 21 (0.029065)\n",
      "14. feature 20 (0.028732)\n",
      "15. feature 28 (0.028154)\n",
      "16. feature 39 (0.028043)\n",
      "17. feature 4 (0.027410)\n",
      "18. feature 27 (0.023110)\n",
      "19. feature 23 (0.022059)\n",
      "20. feature 22 (0.022012)\n",
      "21. feature 37 (0.021336)\n",
      "22. feature 38 (0.020962)\n",
      "23. feature 32 (0.020776)\n",
      "24. feature 26 (0.020322)\n",
      "25. feature 35 (0.020214)\n",
      "26. feature 30 (0.020173)\n",
      "27. feature 41 (0.018545)\n",
      "28. feature 7 (0.017663)\n",
      "29. feature 8 (0.017640)\n",
      "30. feature 33 (0.016877)\n",
      "31. feature 5 (0.015991)\n",
      "32. feature 24 (0.013905)\n",
      "33. feature 34 (0.013509)\n",
      "34. feature 1 (0.013367)\n",
      "35. feature 25 (0.012178)\n",
      "36. feature 36 (0.011497)\n",
      "37. feature 13 (0.011399)\n",
      "38. feature 19 (0.009915)\n",
      "39. feature 18 (0.007354)\n",
      "40. feature 6 (0.005811)\n",
      "41. feature 53 (0.005317)\n",
      "42. feature 52 (0.005230)\n",
      "43. feature 51 (0.005140)\n",
      "44. feature 57 (0.004956)\n",
      "45. feature 47 (0.004760)\n",
      "46. feature 17 (0.004618)\n",
      "47. feature 45 (0.004370)\n",
      "48. feature 44 (0.004344)\n",
      "49. feature 56 (0.004132)\n",
      "50. feature 42 (0.004025)\n",
      "51. feature 48 (0.003379)\n",
      "52. feature 43 (0.003142)\n",
      "53. feature 55 (0.003114)\n",
      "54. feature 62 (0.003056)\n",
      "55. feature 46 (0.002768)\n",
      "56. feature 54 (0.002660)\n",
      "57. feature 3 (0.002090)\n",
      "58. feature 61 (0.001255)\n",
      "59. feature 50 (0.001040)\n",
      "60. feature 58 (0.001011)\n",
      "61. feature 49 (0.000827)\n",
      "62. feature 59 (0.000729)\n",
      "63. feature 60 (0.000173)\n"
     ]
    }
   ],
   "source": [
    "importances = rf.feature_importances_\n",
    "std = np.std([tree.feature_importances_ for tree in rf.estimators_],\n",
    "             axis=0)\n",
    "indices = np.argsort(importances)[::-1]\n",
    "\n",
    "# Print the feature ranking\n",
    "print(\"Feature ranking:\")\n",
    "\n",
    "for f in range(X.shape[1]):\n",
    "    print(\"%d. feature %d (%f)\" % (f + 1, indices[f], importances[indices[f]]))"
   ]
  },
  {
   "cell_type": "code",
   "execution_count": 47,
   "metadata": {
    "scrolled": true
   },
   "outputs": [
    {
     "data": {
      "image/png": "[encoded data removed]",
      "text/plain": [
       "<Figure size 1080x432 with 1 Axes>"
      ]
     },
     "metadata": {},
     "output_type": "display_data"
    }
   ],
   "source": [
    "# Plot the feature importances of the forest\n",
    "plt.figure(figsize=(15,6))\n",
    "plt.title(\"Feature importances\")\n",
    "plt.bar(range(X.shape[1]), importances[indices],\n",
    "       color=\"r\", yerr=std[indices], align=\"center\")\n",
    "plt.xticks(range(X.shape[1]), indices)\n",
    "plt.xlim([-1, X.shape[1]])\n",
    "plt.show()"
   ]
  },
  {
   "cell_type": "code",
   "execution_count": null,
   "metadata": {},
   "outputs": [],
   "source": []
  },
  {
   "cell_type": "code",
   "execution_count": 48,
   "metadata": {},
   "outputs": [],
   "source": [
    "#Now we proceed to read the prospectie donor file, and use the model created above to get the desired outcome\n",
    "df = pd.read_csv('Prospective Donor_ML with Python.csv')"
   ]
  },
  {
   "cell_type": "code",
   "execution_count": 67,
   "metadata": {},
   "outputs": [
    {
     "name": "stdout",
     "output_type": "stream",
     "text": [
      "<class 'pandas.core.frame.DataFrame'>\n",
      "Int64Index: 2122 entries, 0 to 2147\n",
      "Data columns (total 48 columns):\n",
      "CONTROL_NUMBER                 2122 non-null int64\n",
      "MONTHS_SINCE_ORIGIN            2122 non-null int64\n",
      "DONOR_AGE                      2122 non-null float64\n",
      "IN_HOUSE                       2122 non-null int64\n",
      "URBANICITY                     2122 non-null object\n",
      "SES                            2122 non-null object\n",
      "CLUSTER_CODE                   2122 non-null object\n",
      "HOME_OWNER                     2122 non-null object\n",
      "DONOR_GENDER                   2122 non-null object\n",
      "INCOME_GROUP                   2122 non-null float64\n",
      "PUBLISHED_PHONE                2122 non-null int64\n",
      "OVERLAY_SOURCE                 2122 non-null object\n",
      "MOR_HIT_RATE                   2122 non-null int64\n",
      "WEALTH_RATING                  2122 non-null float64\n",
      "MEDIAN_HOME_VALUE              2122 non-null int64\n",
      "MEDIAN_HOUSEHOLD_INCOME        2122 non-null int64\n",
      "PCT_OWNER_OCCUPIED             2122 non-null int64\n",
      "PER_CAPITA_INCOME              2122 non-null int64\n",
      "PCT_ATTRIBUTE1                 2122 non-null int64\n",
      "PCT_ATTRIBUTE2                 2122 non-null int64\n",
      "PCT_ATTRIBUTE3                 2122 non-null int64\n",
      "PCT_ATTRIBUTE4                 2122 non-null int64\n",
      "PEP_STAR                       2122 non-null int64\n",
      "RECENT_STAR_STATUS             2122 non-null int64\n",
      "RECENCY_STATUS_96NK            2122 non-null object\n",
      "FREQUENCY_STATUS_97NK          2122 non-null int64\n",
      "RECENT_RESPONSE_PROP           2122 non-null float64\n",
      "RECENT_AVG_GIFT_AMT            2122 non-null float64\n",
      "RECENT_CARD_RESPONSE_PROP      2122 non-null float64\n",
      "RECENT_AVG_CARD_GIFT_AMT       2122 non-null float64\n",
      "RECENT_RESPONSE_COUNT          2122 non-null int64\n",
      "RECENT_CARD_RESPONSE_COUNT     2122 non-null int64\n",
      "MONTHS_SINCE_LAST_PROM_RESP    2122 non-null float64\n",
      "LIFETIME_CARD_PROM             2122 non-null int64\n",
      "LIFETIME_PROM                  2122 non-null int64\n",
      "LIFETIME_GIFT_AMOUNT           2122 non-null float64\n",
      "LIFETIME_GIFT_COUNT            2122 non-null int64\n",
      "LIFETIME_AVG_GIFT_AMT          2122 non-null float64\n",
      "LIFETIME_GIFT_RANGE            2122 non-null float64\n",
      "LIFETIME_MAX_GIFT_AMT          2122 non-null float64\n",
      "LIFETIME_MIN_GIFT_AMT          2122 non-null float64\n",
      "LAST_GIFT_AMT                  2122 non-null float64\n",
      "CARD_PROM_12                   2122 non-null int64\n",
      "NUMBER_PROM_12                 2122 non-null int64\n",
      "MONTHS_SINCE_LAST_GIFT         2122 non-null int64\n",
      "MONTHS_SINCE_FIRST_GIFT        2122 non-null int64\n",
      "FILE_AVG_GIFT                  2122 non-null float64\n",
      "FILE_CARD_GIFT                 2122 non-null int64\n",
      "dtypes: float64(15), int64(26), object(7)\n",
      "memory usage: 812.3+ KB\n"
     ]
    }
   ],
   "source": [
    "df.info()"
   ]
  },
  {
   "cell_type": "code",
   "execution_count": null,
   "metadata": {},
   "outputs": [],
   "source": [
    "#As with the precious file, we complete missing fields of :\n",
    "#1)Donor_Age, \n",
    "#2)Income_Group, \n",
    "#3)Wealth_Rating,\n",
    "#4)Months_Since_Last_Prom_Response\n",
    "\n",
    "#We will use the same methodology as used before, please refer to notes above"
   ]
  },
  {
   "cell_type": "code",
   "execution_count": 68,
   "metadata": {},
   "outputs": [
    {
     "data": {
      "text/plain": [
       "59.0"
      ]
     },
     "execution_count": 68,
     "metadata": {},
     "output_type": "execute_result"
    }
   ],
   "source": [
    "df['DONOR_AGE'].median()"
   ]
  },
  {
   "cell_type": "code",
   "execution_count": 51,
   "metadata": {},
   "outputs": [],
   "source": [
    "def impute_age(cols):\n",
    "    Age = cols[0]\n",
    "    \n",
    "    if pd.isnull(Age):\n",
    "        return 59\n",
    "    else:\n",
    "        return Age"
   ]
  },
  {
   "cell_type": "code",
   "execution_count": 52,
   "metadata": {},
   "outputs": [],
   "source": [
    "df['DONOR_AGE'] = df[['DONOR_AGE']].apply(impute_age,axis=1)"
   ]
  },
  {
   "cell_type": "code",
   "execution_count": 53,
   "metadata": {},
   "outputs": [
    {
     "data": {
      "text/plain": [
       "4.0"
      ]
     },
     "execution_count": 53,
     "metadata": {},
     "output_type": "execute_result"
    }
   ],
   "source": [
    "df['INCOME_GROUP'].median()"
   ]
  },
  {
   "cell_type": "code",
   "execution_count": 54,
   "metadata": {},
   "outputs": [],
   "source": [
    "def impute_ig(cols):\n",
    "    ig = cols[0]\n",
    "    \n",
    "    if pd.isnull(ig):\n",
    "        return 4\n",
    "    else:\n",
    "        return ig"
   ]
  },
  {
   "cell_type": "code",
   "execution_count": 55,
   "metadata": {},
   "outputs": [],
   "source": [
    "df['INCOME_GROUP'] = df[['INCOME_GROUP']].apply(impute_ig,axis=1)"
   ]
  },
  {
   "cell_type": "code",
   "execution_count": 56,
   "metadata": {},
   "outputs": [
    {
     "data": {
      "text/plain": [
       "<matplotlib.axes._subplots.AxesSubplot at 0x1df945964e0>"
      ]
     },
     "execution_count": 56,
     "metadata": {},
     "output_type": "execute_result"
    },
    {
     "data": {
      "image/png": "[encoded data removed]",
      "text/plain": [
       "<Figure size 864x504 with 1 Axes>"
      ]
     },
     "metadata": {},
     "output_type": "display_data"
    }
   ],
   "source": [
    "plt.figure(figsize=(12, 7))\n",
    "ss.boxplot(y='WEALTH_RATING',x='INCOME_GROUP',data=df,palette='winter')"
   ]
  },
  {
   "cell_type": "code",
   "execution_count": 57,
   "metadata": {},
   "outputs": [],
   "source": [
    "def impute_wealthr(cols):\n",
    "    wealthr = cols[0]\n",
    "    incomeg = cols[1]\n",
    "    \n",
    "    if pd.isnull(wealthr):\n",
    "\n",
    "        if incomeg == 1:\n",
    "            return 3\n",
    "\n",
    "        elif incomeg == 2:\n",
    "            return 3\n",
    "        \n",
    "        elif incomeg == 3:\n",
    "            return 5\n",
    "        \n",
    "        elif incomeg == 4:\n",
    "            return 5\n",
    "        \n",
    "        elif incomeg == 5:\n",
    "            return 7\n",
    "        \n",
    "        elif incomeg == 6:\n",
    "            return 7\n",
    "        \n",
    "        else:\n",
    "            return 8\n",
    "\n",
    "    else:\n",
    "        return wealthr"
   ]
  },
  {
   "cell_type": "code",
   "execution_count": 58,
   "metadata": {},
   "outputs": [],
   "source": [
    "df['WEALTH_RATING'] = df[['WEALTH_RATING','INCOME_GROUP']].apply(impute_wealthr,axis=1)"
   ]
  },
  {
   "cell_type": "code",
   "execution_count": 59,
   "metadata": {},
   "outputs": [],
   "source": [
    "df['MONTHS_SINCE_LAST_PROM_RESP'] = df['MONTHS_SINCE_LAST_PROM_RESP'].replace('', np.nan)\n",
    "df = df.dropna(axis=0, subset=['MONTHS_SINCE_LAST_PROM_RESP'])"
   ]
  },
  {
   "cell_type": "code",
   "execution_count": 60,
   "metadata": {},
   "outputs": [],
   "source": [
    "df['CLUSTER_CODE'].replace(' .',0,inplace = True)"
   ]
  },
  {
   "cell_type": "code",
   "execution_count": 61,
   "metadata": {},
   "outputs": [],
   "source": [
    "expanded_df =pd.get_dummies(df, columns=['URBANICITY','SES','HOME_OWNER', 'DONOR_GENDER', 'OVERLAY_SOURCE', 'RECENCY_STATUS_96NK'], drop_first = True)\n",
    "#print(expanded_data.head())"
   ]
  },
  {
   "cell_type": "code",
   "execution_count": 70,
   "metadata": {},
   "outputs": [
    {
     "data": {
      "text/plain": [
       "Index(['CONTROL_NUMBER', 'MONTHS_SINCE_ORIGIN', 'DONOR_AGE', 'IN_HOUSE',\n",
       "       'CLUSTER_CODE', 'INCOME_GROUP', 'PUBLISHED_PHONE', 'MOR_HIT_RATE',\n",
       "       'WEALTH_RATING', 'MEDIAN_HOME_VALUE', 'MEDIAN_HOUSEHOLD_INCOME',\n",
       "       'PCT_OWNER_OCCUPIED', 'PER_CAPITA_INCOME', 'PCT_ATTRIBUTE1',\n",
       "       'PCT_ATTRIBUTE2', 'PCT_ATTRIBUTE3', 'PCT_ATTRIBUTE4', 'PEP_STAR',\n",
       "       'RECENT_STAR_STATUS', 'FREQUENCY_STATUS_97NK', 'RECENT_RESPONSE_PROP',\n",
       "       'RECENT_AVG_GIFT_AMT', 'RECENT_CARD_RESPONSE_PROP',\n",
       "       'RECENT_AVG_CARD_GIFT_AMT', 'RECENT_RESPONSE_COUNT',\n",
       "       'RECENT_CARD_RESPONSE_COUNT', 'MONTHS_SINCE_LAST_PROM_RESP',\n",
       "       'LIFETIME_CARD_PROM', 'LIFETIME_PROM', 'LIFETIME_GIFT_AMOUNT',\n",
       "       'LIFETIME_GIFT_COUNT', 'LIFETIME_AVG_GIFT_AMT', 'LIFETIME_GIFT_RANGE',\n",
       "       'LIFETIME_MAX_GIFT_AMT', 'LIFETIME_MIN_GIFT_AMT', 'LAST_GIFT_AMT',\n",
       "       'CARD_PROM_12', 'NUMBER_PROM_12', 'MONTHS_SINCE_LAST_GIFT',\n",
       "       'MONTHS_SINCE_FIRST_GIFT', 'FILE_AVG_GIFT', 'FILE_CARD_GIFT',\n",
       "       'URBANICITY_C', 'URBANICITY_R', 'URBANICITY_S', 'URBANICITY_T',\n",
       "       'URBANICITY_U', 'SES_2', 'SES_3', 'SES_4', 'SES_?', 'HOME_OWNER_U',\n",
       "       'DONOR_GENDER_M', 'DONOR_GENDER_U', 'OVERLAY_SOURCE_M',\n",
       "       'OVERLAY_SOURCE_N', 'OVERLAY_SOURCE_P', 'RECENCY_STATUS_96NK_E',\n",
       "       'RECENCY_STATUS_96NK_F', 'RECENCY_STATUS_96NK_L',\n",
       "       'RECENCY_STATUS_96NK_N', 'RECENCY_STATUS_96NK_S'],\n",
       "      dtype='object')"
      ]
     },
     "execution_count": 70,
     "metadata": {},
     "output_type": "execute_result"
    }
   ],
   "source": [
    "expanded_df.columns"
   ]
  },
  {
   "cell_type": "code",
   "execution_count": null,
   "metadata": {},
   "outputs": [],
   "source": [
    "#We will now predict the outcome of the prospective donors"
   ]
  },
  {
   "cell_type": "code",
   "execution_count": 72,
   "metadata": {},
   "outputs": [
    {
     "name": "stdout",
     "output_type": "stream",
     "text": [
      "      CONTROL_NUMBER  prediction\n",
      "7                665           1\n",
      "8                702           1\n",
      "9                743           1\n",
      "14               968           1\n",
      "16              1245           1\n",
      "20              1799           1\n",
      "22              2085           1\n",
      "25              2340           1\n",
      "26              2431           1\n",
      "36              3237           1\n",
      "37              3275           1\n",
      "41              3698           1\n",
      "42              3891           1\n",
      "43              3933           1\n",
      "45              4082           1\n",
      "47              4503           1\n",
      "51              4755           1\n",
      "54              4885           1\n",
      "58              5059           1\n",
      "61              5300           1\n",
      "63              5331           1\n",
      "70              6123           1\n",
      "74              6558           1\n",
      "77              7074           1\n",
      "78              7169           1\n",
      "79              7174           1\n",
      "80              7300           1\n",
      "86              7676           1\n",
      "87              7846           1\n",
      "90              7995           1\n",
      "...              ...         ...\n",
      "2025          180193           1\n",
      "2026          180246           1\n",
      "2027          180262           1\n",
      "2035          181061           1\n",
      "2036          181072           1\n",
      "2041          181573           1\n",
      "2046          181869           1\n",
      "2047          181874           1\n",
      "2049          182138           1\n",
      "2050          182144           1\n",
      "2054          182441           1\n",
      "2064          183241           1\n",
      "2070          183987           1\n",
      "2075          184377           1\n",
      "2084          185972           1\n",
      "2085          186009           1\n",
      "2097          187318           1\n",
      "2098          187362           1\n",
      "2101          187686           1\n",
      "2102          187722           1\n",
      "2108          187902           1\n",
      "2115          188492           1\n",
      "2120          188980           1\n",
      "2126          189725           1\n",
      "2127          190018           1\n",
      "2128          190099           1\n",
      "2133          190267           1\n",
      "2134          190412           1\n",
      "2142          190840           1\n",
      "2147          191710           1\n",
      "\n",
      "[469 rows x 2 columns]\n"
     ]
    },
    {
     "name": "stderr",
     "output_type": "stream",
     "text": [
      "C:\\Users\\Admin\\Anaconda3\\lib\\site-packages\\ipykernel_launcher.py:3: SettingWithCopyWarning: \n",
      "A value is trying to be set on a copy of a slice from a DataFrame.\n",
      "Try using .loc[row_indexer,col_indexer] = value instead\n",
      "\n",
      "See the caveats in the documentation: http://pandas.pydata.org/pandas-docs/stable/indexing.html#indexing-view-versus-copy\n",
      "  This is separate from the ipykernel package so we can avoid doing imports until\n"
     ]
    }
   ],
   "source": [
    "prediction = pd.Series(rf.predict(X))\n",
    "survivors = df[['CONTROL_NUMBER']]\n",
    "survivors['prediction']= prediction\n",
    "print(survivors.loc[survivors['prediction'] ==1])"
   ]
  },
  {
   "cell_type": "code",
   "execution_count": null,
   "metadata": {},
   "outputs": [],
   "source": [
    "#We will now get the accuracy of the model"
   ]
  },
  {
   "cell_type": "code",
   "execution_count": 64,
   "metadata": {},
   "outputs": [
    {
     "name": "stdout",
     "output_type": "stream",
     "text": [
      "My first model accuracy is = 92.46052493987243%\n"
     ]
    }
   ],
   "source": [
    "accuracy = rf.score(X, y)\n",
    "print('My first model accuracy is = {}%'.format(accuracy*100))"
   ]
  }
 ],
 "metadata": {
  "kernelspec": {
   "display_name": "Python 3",
   "language": "python",
   "name": "python3"
  },
  "language_info": {
   "codemirror_mode": {
    "name": "ipython",
    "version": 3
   },
   "file_extension": ".py",
   "mimetype": "text/x-python",
   "name": "python",
   "nbconvert_exporter": "python",
   "pygments_lexer": "ipython3",
   "version": "3.6.5"
  }
 },
 "nbformat": 4,
 "nbformat_minor": 2
}
